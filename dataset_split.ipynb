{
 "cells": [
  {
   "cell_type": "code",
   "execution_count": 1,
   "metadata": {
    "ExecuteTime": {
     "end_time": "2023-12-05T23:30:03.501408400Z",
     "start_time": "2023-12-05T23:29:12.835242400Z"
    }
   },
   "outputs": [],
   "source": [
    "import pandas as pd\n",
    "\n",
    "reviews = pd.read_csv(\"data//rotten_tomatoes_movie_reviews.csv\")"
   ]
  },
  {
   "cell_type": "code",
   "execution_count": 2,
   "metadata": {
    "ExecuteTime": {
     "end_time": "2023-12-05T23:30:03.753849200Z",
     "start_time": "2023-12-05T23:30:03.523009300Z"
    }
   },
   "outputs": [
    {
     "data": {
      "text/plain": "Index(['id', 'reviewId', 'creationDate', 'criticName', 'isTopCritic',\n       'originalScore', 'reviewState', 'publicatioName', 'reviewText',\n       'scoreSentiment', 'reviewUrl'],\n      dtype='object')"
     },
     "execution_count": 2,
     "metadata": {},
     "output_type": "execute_result"
    }
   ],
   "source": [
    "reviews.columns"
   ]
  },
  {
   "cell_type": "code",
   "execution_count": 3,
   "metadata": {
    "ExecuteTime": {
     "end_time": "2023-12-05T23:30:14.749392100Z",
     "start_time": "2023-12-05T23:30:03.746858100Z"
    }
   },
   "outputs": [
    {
     "data": {
      "text/plain": "                                  id   reviewId creationDate  \\\n155743         ballad_of_aj_weberman    1914317   1800-01-01   \n168836                 lucky_country    1904549   1800-01-01   \n278238    the_definition_of_insanity    1905309   1800-01-01   \n947162                         juice    1897051   1800-01-01   \n1060329               heartless-2009    1917013   1800-01-01   \n...                              ...        ...          ...   \n1301070  1118325-trouble_in_paradise  102796048   2023-04-08   \n1304106                     astrakan  102796136   2023-04-08   \n1307445                  cherry_2022  102796110   2023-04-08   \n1314987           the_popes_exorcist  102796153   2023-04-08   \n641517                     hunt_club  102796058   2023-04-08   \n\n                criticName  isTopCritic originalScore reviewState  \\\n155743      Jennie Kermode        False           5/5       fresh   \n168836     Thomas Caldwell        False           2/5      rotten   \n278238          Joe Lozito        False         3.5/4       fresh   \n947162     Owen Gleiberman         True            B+       fresh   \n1060329          Tim Robey         True           3/5       fresh   \n...                    ...          ...           ...         ...   \n1301070       Sean Axmaker        False           NaN       fresh   \n1304106   Michael Sicinski        False           NaN       fresh   \n1307445    Dennis Schwartz        False            B+       fresh   \n1314987        Tom Beasley        False           3/5       fresh   \n641517   Crockett Houghton        False           NaN      rotten   \n\n                        publicatioName  \\\n155743                    Eye for Film   \n168836                  Cinema Autopsy   \n278238           Big Picture Big Sound   \n947162            Entertainment Weekly   \n1060329           Daily Telegraph (UK)   \n...                                ...   \n1301070               Stream on Demand   \n1304106               In Review Online   \n1307445  Dennis Schwartz Movie Reviews   \n1314987                The Digital Fix   \n641517                    Film Inquiry   \n\n                                                reviewText scoreSentiment  \\\n155743                                                 NaN       POSITIVE   \n168836                                                 NaN       NEGATIVE   \n278238   I don't know how autobiographical this film is...       POSITIVE   \n947162   Coming out from behind Spike Lee's camera, Ern...       POSITIVE   \n1060329  It's exciting to see a British horror film wit...       POSITIVE   \n...                                                    ...            ...   \n1301070  Quite possibly the most sparkling and sexy rom...       POSITIVE   \n1304106  Withholding key information and avoiding expos...       POSITIVE   \n1307445                      Pro-abortion rights film&#46;       POSITIVE   \n1314987  There&#8217;s nothing you haven&#8217;t seen b...       POSITIVE   \n641517   There was a movie here but somewhere along the...       NEGATIVE   \n\n                                                 reviewUrl  \n155743     http://www.eyeforfilm.co.uk/reviews.php?id=8266  \n168836   http://blog.cinemaautopsy.com/2009/07/14/film-...  \n278238   http://www.bigpicturebigsound.com/The-Definiti...  \n947162      http://www.ew.com/ew/article/0,,309271,00.html  \n1060329  http://www.telegraph.co.uk/culture/film/filmre...  \n...                                                    ...  \n1301070  https://streamondemandathome.com/trouble-in-pa...  \n1304106                https://inreviewonline.com/astrakan  \n1307445        https://dennisschwartzreviews.com/cherry-2/  \n1314987  https://www.thedigitalfix.com/russell-crowe/th...  \n641517   https://www.filminquiry.com/hunt-club-2023-rev...  \n\n[1444963 rows x 11 columns]",
      "text/html": "<div>\n<style scoped>\n    .dataframe tbody tr th:only-of-type {\n        vertical-align: middle;\n    }\n\n    .dataframe tbody tr th {\n        vertical-align: top;\n    }\n\n    .dataframe thead th {\n        text-align: right;\n    }\n</style>\n<table border=\"1\" class=\"dataframe\">\n  <thead>\n    <tr style=\"text-align: right;\">\n      <th></th>\n      <th>id</th>\n      <th>reviewId</th>\n      <th>creationDate</th>\n      <th>criticName</th>\n      <th>isTopCritic</th>\n      <th>originalScore</th>\n      <th>reviewState</th>\n      <th>publicatioName</th>\n      <th>reviewText</th>\n      <th>scoreSentiment</th>\n      <th>reviewUrl</th>\n    </tr>\n  </thead>\n  <tbody>\n    <tr>\n      <th>155743</th>\n      <td>ballad_of_aj_weberman</td>\n      <td>1914317</td>\n      <td>1800-01-01</td>\n      <td>Jennie Kermode</td>\n      <td>False</td>\n      <td>5/5</td>\n      <td>fresh</td>\n      <td>Eye for Film</td>\n      <td>NaN</td>\n      <td>POSITIVE</td>\n      <td>http://www.eyeforfilm.co.uk/reviews.php?id=8266</td>\n    </tr>\n    <tr>\n      <th>168836</th>\n      <td>lucky_country</td>\n      <td>1904549</td>\n      <td>1800-01-01</td>\n      <td>Thomas Caldwell</td>\n      <td>False</td>\n      <td>2/5</td>\n      <td>rotten</td>\n      <td>Cinema Autopsy</td>\n      <td>NaN</td>\n      <td>NEGATIVE</td>\n      <td>http://blog.cinemaautopsy.com/2009/07/14/film-...</td>\n    </tr>\n    <tr>\n      <th>278238</th>\n      <td>the_definition_of_insanity</td>\n      <td>1905309</td>\n      <td>1800-01-01</td>\n      <td>Joe Lozito</td>\n      <td>False</td>\n      <td>3.5/4</td>\n      <td>fresh</td>\n      <td>Big Picture Big Sound</td>\n      <td>I don't know how autobiographical this film is...</td>\n      <td>POSITIVE</td>\n      <td>http://www.bigpicturebigsound.com/The-Definiti...</td>\n    </tr>\n    <tr>\n      <th>947162</th>\n      <td>juice</td>\n      <td>1897051</td>\n      <td>1800-01-01</td>\n      <td>Owen Gleiberman</td>\n      <td>True</td>\n      <td>B+</td>\n      <td>fresh</td>\n      <td>Entertainment Weekly</td>\n      <td>Coming out from behind Spike Lee's camera, Ern...</td>\n      <td>POSITIVE</td>\n      <td>http://www.ew.com/ew/article/0,,309271,00.html</td>\n    </tr>\n    <tr>\n      <th>1060329</th>\n      <td>heartless-2009</td>\n      <td>1917013</td>\n      <td>1800-01-01</td>\n      <td>Tim Robey</td>\n      <td>True</td>\n      <td>3/5</td>\n      <td>fresh</td>\n      <td>Daily Telegraph (UK)</td>\n      <td>It's exciting to see a British horror film wit...</td>\n      <td>POSITIVE</td>\n      <td>http://www.telegraph.co.uk/culture/film/filmre...</td>\n    </tr>\n    <tr>\n      <th>...</th>\n      <td>...</td>\n      <td>...</td>\n      <td>...</td>\n      <td>...</td>\n      <td>...</td>\n      <td>...</td>\n      <td>...</td>\n      <td>...</td>\n      <td>...</td>\n      <td>...</td>\n      <td>...</td>\n    </tr>\n    <tr>\n      <th>1301070</th>\n      <td>1118325-trouble_in_paradise</td>\n      <td>102796048</td>\n      <td>2023-04-08</td>\n      <td>Sean Axmaker</td>\n      <td>False</td>\n      <td>NaN</td>\n      <td>fresh</td>\n      <td>Stream on Demand</td>\n      <td>Quite possibly the most sparkling and sexy rom...</td>\n      <td>POSITIVE</td>\n      <td>https://streamondemandathome.com/trouble-in-pa...</td>\n    </tr>\n    <tr>\n      <th>1304106</th>\n      <td>astrakan</td>\n      <td>102796136</td>\n      <td>2023-04-08</td>\n      <td>Michael Sicinski</td>\n      <td>False</td>\n      <td>NaN</td>\n      <td>fresh</td>\n      <td>In Review Online</td>\n      <td>Withholding key information and avoiding expos...</td>\n      <td>POSITIVE</td>\n      <td>https://inreviewonline.com/astrakan</td>\n    </tr>\n    <tr>\n      <th>1307445</th>\n      <td>cherry_2022</td>\n      <td>102796110</td>\n      <td>2023-04-08</td>\n      <td>Dennis Schwartz</td>\n      <td>False</td>\n      <td>B+</td>\n      <td>fresh</td>\n      <td>Dennis Schwartz Movie Reviews</td>\n      <td>Pro-abortion rights film&amp;#46;</td>\n      <td>POSITIVE</td>\n      <td>https://dennisschwartzreviews.com/cherry-2/</td>\n    </tr>\n    <tr>\n      <th>1314987</th>\n      <td>the_popes_exorcist</td>\n      <td>102796153</td>\n      <td>2023-04-08</td>\n      <td>Tom Beasley</td>\n      <td>False</td>\n      <td>3/5</td>\n      <td>fresh</td>\n      <td>The Digital Fix</td>\n      <td>There&amp;#8217;s nothing you haven&amp;#8217;t seen b...</td>\n      <td>POSITIVE</td>\n      <td>https://www.thedigitalfix.com/russell-crowe/th...</td>\n    </tr>\n    <tr>\n      <th>641517</th>\n      <td>hunt_club</td>\n      <td>102796058</td>\n      <td>2023-04-08</td>\n      <td>Crockett Houghton</td>\n      <td>False</td>\n      <td>NaN</td>\n      <td>rotten</td>\n      <td>Film Inquiry</td>\n      <td>There was a movie here but somewhere along the...</td>\n      <td>NEGATIVE</td>\n      <td>https://www.filminquiry.com/hunt-club-2023-rev...</td>\n    </tr>\n  </tbody>\n</table>\n<p>1444963 rows × 11 columns</p>\n</div>"
     },
     "execution_count": 3,
     "metadata": {},
     "output_type": "execute_result"
    }
   ],
   "source": [
    "reviews.sort_values(by=\"creationDate\")"
   ]
  },
  {
   "cell_type": "code",
   "execution_count": 5,
   "metadata": {
    "ExecuteTime": {
     "end_time": "2023-12-06T19:30:10.705648900Z",
     "start_time": "2023-12-06T19:29:30.303753600Z"
    }
   },
   "outputs": [],
   "source": [
    "def partition_quantiles(df, by, quantiles):\n",
    "    num_samples = len(df)\n",
    "    df = df.sort_values(by)\n",
    "    q_idxs = [0, *(int(num_samples * q) for q in quantiles), num_samples + 1]\n",
    "\n",
    "    for q_start, q_end in zip(q_idxs[:-1], q_idxs[1:]):\n",
    "        yield df.iloc[q_start:q_end]\n",
    "\n",
    "\n",
    "i = 1\n",
    "for partition in partition_quantiles(reviews, \"creationDate\", [0.005, 0.01, 0.015, 0.02]):\n",
    "    partition.to_csv(\"Review\" + str(i) + \".csv\")\n",
    "    i += 1"
   ]
  },
  {
   "cell_type": "code",
   "execution_count": null,
   "metadata": {
    "ExecuteTime": {
     "start_time": "2023-12-05T22:43:41.054321600Z"
    }
   },
   "outputs": [],
   "source": [
    "! pip uninstall numpy"
   ]
  },
  {
   "cell_type": "code",
   "execution_count": null,
   "outputs": [],
   "source": [
    "! pip install numpy"
   ],
   "metadata": {
    "collapsed": false
   }
  },
  {
   "cell_type": "code",
   "execution_count": null,
   "outputs": [],
   "source": [],
   "metadata": {
    "collapsed": false
   }
  }
 ],
 "metadata": {
  "kernelspec": {
   "display_name": "Python 3",
   "language": "python",
   "name": "python3"
  },
  "language_info": {
   "codemirror_mode": {
    "name": "ipython",
    "version": 3
   },
   "file_extension": ".py",
   "mimetype": "text/x-python",
   "name": "python",
   "nbconvert_exporter": "python",
   "pygments_lexer": "ipython3",
   "version": "3.11.5"
  }
 },
 "nbformat": 4,
 "nbformat_minor": 2
}
